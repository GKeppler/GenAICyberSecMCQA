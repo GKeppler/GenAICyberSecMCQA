{
 "cells": [
  {
   "cell_type": "code",
   "execution_count": 27,
   "metadata": {},
   "outputs": [
    {
     "name": "stdout",
     "output_type": "stream",
     "text": [
      "Parquet file ./data/200_301_CCNA_images.parquet created successfully.\n"
     ]
    },
    {
     "data": {
      "text/plain": [
       "['create an SNMP pull mechanism for managing AMP',\n",
       " 'gather network telemetry information from AMP for endpoints',\n",
       " 'get the process and PID information from the computers in the network',\n",
       " 'gather the network interface information about the computers AMP sees']"
      ]
     },
     "execution_count": 27,
     "metadata": {},
     "output_type": "execute_result"
    }
   ],
   "source": [
    "import base64\n",
    "from io import BytesIO\n",
    "import pandas as pd\n",
    "import re\n",
    "import pyarrow.parquet as pq\n",
    "import pyarrow as pa\n",
    "from PIL import Image\n",
    "\n",
    "# Function to convert choice format\n",
    "def convert_choice_format(choices):\n",
    "    if pd.isna(choices):  # Handle NaN values\n",
    "        return []\n",
    "    choice_map = {\n",
    "        'B': 1,\n",
    "        'A': 0,\n",
    "        'C': 2,\n",
    "        'D': 3,\n",
    "        'E': 4,\n",
    "        'F': 5,\n",
    "        'G': 6\n",
    "    }\n",
    "    return [choice_map.get(choice, \"\") for choice in str(choices) if choice in choice_map]\n",
    "import ast\n",
    "# Function to ensure each entry is a list containing one string\n",
    "def wrap_in_list(entry):\n",
    "    if pd.isna(entry):  # Handle NaN values\n",
    "        return []\n",
    "    return ast.literal_eval(entry)\n",
    "\n",
    "# Read CSV file\n",
    "csv_file = 'data/extracted_questions_answers_350_701.csv'#'data/extracted_questions_answers_200_301.csv'\n",
    "df = pd.read_csv(csv_file)\n",
    "\n",
    "# Remove rows where choices is '[]'\n",
    "df = df[df['Answers'] != '[]']\n",
    "\n",
    "# Create new columns with required names and formats\n",
    "df['question'] = df['Question']\n",
    "df['choices'] = df['Answers'].apply(wrap_in_list)\n",
    "df['answer'] = df['Correct Answer'].apply(convert_choice_format)\n",
    "df['image'] = df['Image'].astype(str)\n",
    "df['Exam'] = 'CCNA-200-301'\n",
    "\n",
    "# Remove rows where choices is '[]'\n",
    "df = df[df['choices'] != '[]']\n",
    "\n",
    "# Select required columns for the parquet file\n",
    "df = df[['question', 'choices', 'answer', 'image', 'Exam']]\n",
    "\n",
    "# Save to parquet file\n",
    "\n",
    "#drop all rows where image is \"nan\"\n",
    "df = df[df['image'] != 'nan']\n",
    "\n",
    "df = df.drop_duplicates(subset=['image'],ignore_index=True)\n",
    "\n",
    "\n",
    "#drop image that the length is less than 6000\n",
    "df = df[df['image'].apply(lambda x: len(x) > 6000)]\n",
    "\n",
    "df = df[df['question'].str.contains('exhibit', case=False)]\n",
    "\n",
    "# Function to decode a base64 image and get its dimensions\n",
    "def change_image_format(base64_string):\n",
    "    image_data = base64.b64decode(base64_string)\n",
    "    image = Image.open(BytesIO(image_data))\n",
    "    #display(image)\n",
    "    #get encoding\n",
    "\n",
    "    #change jpeg to png\n",
    "    if image.format != 'PNG':\n",
    "        # Step 1: Decode the base64-encoded JPEG data\n",
    "        jpeg_data = base64.b64decode(base64_string)\n",
    "\n",
    "        # Step 2: Load the JPEG data into a PIL Image\n",
    "        jpeg_image = Image.open(BytesIO(jpeg_data))\n",
    "\n",
    "        # Step 3: Save the image in PNG format to a BytesIO object\n",
    "        png_buffer = BytesIO()\n",
    "        jpeg_image.save(png_buffer, format=\"PNG\")\n",
    "\n",
    "        # Step 4 (optional): Encode the PNG data to base64 if needed\n",
    "        base64_string = base64.b64encode(png_buffer.getvalue()).decode('utf-8')\n",
    "\n",
    "    return base64_string # Returns a tuple (width, height)\n",
    "\n",
    "# Apply the function to the 'image' column\n",
    "df['image']= df['image'].apply(change_image_format)\n",
    "table = pa.Table.from_pandas(df)\n",
    "parquet_file_path = './data/200_301_CCNA_images.parquet'\n",
    "#pq.write_table(table, parquet_file_path)\n",
    "print(f\"Parquet file {parquet_file_path} created successfully.\")\n",
    "df['choices'][0]\n"
   ]
  }
 ],
 "metadata": {
  "kernelspec": {
   "display_name": ".venv",
   "language": "python",
   "name": "python3"
  },
  "language_info": {
   "codemirror_mode": {
    "name": "ipython",
    "version": 3
   },
   "file_extension": ".py",
   "mimetype": "text/x-python",
   "name": "python",
   "nbconvert_exporter": "python",
   "pygments_lexer": "ipython3",
   "version": "3.10.12"
  }
 },
 "nbformat": 4,
 "nbformat_minor": 2
}
